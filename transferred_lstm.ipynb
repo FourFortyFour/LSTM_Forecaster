{
 "cells": [
  {
   "cell_type": "code",
   "execution_count": 1,
   "metadata": {},
   "outputs": [],
   "source": [
    "from tensorflow.keras.models import load_model"
   ]
  },
  {
   "cell_type": "code",
   "execution_count": 5,
   "metadata": {},
   "outputs": [
    {
     "data": {
      "text/plain": [
       "[<tensorflow.python.keras.layers.recurrent_v2.LSTM at 0x212421bb310>,\n",
       " <tensorflow.python.keras.layers.core.Dropout at 0x212421c6bb0>,\n",
       " <tensorflow.python.keras.layers.recurrent_v2.LSTM at 0x212421c6b80>,\n",
       " <tensorflow.python.keras.layers.core.Dropout at 0x21240084cd0>,\n",
       " <tensorflow.python.keras.layers.recurrent_v2.LSTM at 0x212421866a0>,\n",
       " <tensorflow.python.keras.layers.core.Dropout at 0x21240898760>,\n",
       " <tensorflow.python.keras.layers.core.Dense at 0x21241f61f40>]"
      ]
     },
     "execution_count": 5,
     "metadata": {},
     "output_type": "execute_result"
    }
   ],
   "source": [
    "imported_lstm = load_model('./transferable.h5')\n",
    "imported_lstm.layers\n",
    "# tbc..."
   ]
  }
 ],
 "metadata": {
  "kernelspec": {
   "display_name": "Python 3.9.12 ('mainenv')",
   "language": "python",
   "name": "python3"
  },
  "language_info": {
   "codemirror_mode": {
    "name": "ipython",
    "version": 3
   },
   "file_extension": ".py",
   "mimetype": "text/x-python",
   "name": "python",
   "nbconvert_exporter": "python",
   "pygments_lexer": "ipython3",
   "version": "3.9.12"
  },
  "orig_nbformat": 4,
  "vscode": {
   "interpreter": {
    "hash": "214b7b0af70bfa28e0afdd81120454c4d11168c6ab8419e440f91c87a78b14e6"
   }
  }
 },
 "nbformat": 4,
 "nbformat_minor": 2
}
